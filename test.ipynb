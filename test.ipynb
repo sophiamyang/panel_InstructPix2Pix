{
 "cells": [
  {
   "cell_type": "code",
   "execution_count": null,
   "id": "3cdb3f0e-3856-409b-bf1e-8be0ebce5c66",
   "metadata": {},
   "outputs": [],
   "source": [
    "import panel as pn\n",
    "pn.extension()\n",
    "import hvplot.pandas\n",
    "import io\n",
    "import param"
   ]
  },
  {
   "cell_type": "code",
   "execution_count": null,
   "id": "05e27344",
   "metadata": {},
   "outputs": [],
   "source": [
    "fi = pn.widgets.FileInput()\n",
    "inp = pn.widgets.TextInput(value=\"\", placeholder='Enter text here...')\n",
    "button_conversation = pn.widgets.Button(name=\"Chat!\")\n",
    "convos = [] # store all panel objects in a list\n",
    "\n",
    "def get_conversations(_):\n",
    "    prompt = inp.value\n",
    "    inp.value = ''\n",
    "    if prompt != \"\":  \n",
    "        convos.append(\n",
    "            pn.Row('\\U0001F60A', pn.pane.Markdown(prompt, width=600))\n",
    "        )\n",
    "        convos.append(\n",
    "            pn.Row('\\U0001F916', pn.pane.PNG(fi.value))\n",
    "        )\n",
    "    return pn.Column(*convos)"
   ]
  },
  {
   "cell_type": "code",
   "execution_count": null,
   "id": "8092536b",
   "metadata": {},
   "outputs": [],
   "source": [
    "interactive_conversation = pn.bind(get_conversations, button_conversation)\n",
    "interactive_upload = pn.bind(pn.pane.PNG, fi)\n",
    "pn.Column(\n",
    "    pn.Column(fi, pn.panel(interactive_upload)),\n",
    "    pn.panel(interactive_conversation, loading_indicator=True),\n",
    "    inp,\n",
    "    pn.Row(button_conversation),\n",
    "    \n",
    "\n",
    ")\n",
    "   "
   ]
  },
  {
   "cell_type": "code",
   "execution_count": null,
   "id": "3e19a1c3",
   "metadata": {},
   "outputs": [],
   "source": []
  }
 ],
 "metadata": {
  "kernelspec": {
   "display_name": "Python 3 (ipykernel)",
   "language": "python",
   "name": "python3"
  },
  "language_info": {
   "codemirror_mode": {
    "name": "ipython",
    "version": 3
   },
   "file_extension": ".py",
   "mimetype": "text/x-python",
   "name": "python",
   "nbconvert_exporter": "python",
   "pygments_lexer": "ipython3",
   "version": "3.10.8"
  }
 },
 "nbformat": 4,
 "nbformat_minor": 5
}
